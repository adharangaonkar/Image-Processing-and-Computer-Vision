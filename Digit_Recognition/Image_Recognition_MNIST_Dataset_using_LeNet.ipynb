{
  "nbformat": 4,
  "nbformat_minor": 0,
  "metadata": {
    "colab": {
      "name": "Image Recognition MNIST Dataset using LeNet.ipynb",
      "provenance": [],
      "authorship_tag": "ABX9TyMwHuXcbNqydumHn3VxsAqa",
      "include_colab_link": true
    },
    "kernelspec": {
      "name": "python3",
      "display_name": "Python 3"
    },
    "language_info": {
      "name": "python"
    },
    "accelerator": "GPU"
  },
  "cells": [
    {
      "cell_type": "markdown",
      "metadata": {
        "id": "view-in-github",
        "colab_type": "text"
      },
      "source": [
        "<a href=\"https://colab.research.google.com/github/adharangaonkar/Image-Processing-and-Computer-Vision/blob/main/Digit_Recognition/Image_Recognition_MNIST_Dataset_using_LeNet.ipynb\" target=\"_parent\"><img src=\"https://colab.research.google.com/assets/colab-badge.svg\" alt=\"Open In Colab\"/></a>"
      ]
    },
    {
      "cell_type": "code",
      "metadata": {
        "colab": {
          "base_uri": "https://localhost:8080/"
        },
        "id": "T5UBFD9oGaw3",
        "outputId": "4c012561-b159-4daa-9dfe-e78332a48b44"
      },
      "source": [
        "!pip3 install torchvision"
      ],
      "execution_count": 1,
      "outputs": [
        {
          "output_type": "stream",
          "text": [
            "Requirement already satisfied: torchvision in /usr/local/lib/python3.7/dist-packages (0.10.0+cu102)\n",
            "Requirement already satisfied: numpy in /usr/local/lib/python3.7/dist-packages (from torchvision) (1.19.5)\n",
            "Requirement already satisfied: pillow>=5.3.0 in /usr/local/lib/python3.7/dist-packages (from torchvision) (8.2.0)\n",
            "Requirement already satisfied: torch==1.9.0 in /usr/local/lib/python3.7/dist-packages (from torchvision) (1.9.0+cu102)\n",
            "Requirement already satisfied: typing-extensions in /usr/local/lib/python3.7/dist-packages (from torch==1.9.0->torchvision) (3.7.4.3)\n"
          ],
          "name": "stdout"
        }
      ]
    },
    {
      "cell_type": "code",
      "metadata": {
        "id": "3Tc5OeaNGhbu"
      },
      "source": [
        "# !pip3 install pillow==7.1.0"
      ],
      "execution_count": 2,
      "outputs": []
    },
    {
      "cell_type": "code",
      "metadata": {
        "id": "zo96SHF04ttD"
      },
      "source": [
        "# !pip3 uninstall pillow"
      ],
      "execution_count": 3,
      "outputs": []
    },
    {
      "cell_type": "markdown",
      "metadata": {
        "id": "sncyo0h5GaUF"
      },
      "source": [
        ""
      ]
    },
    {
      "cell_type": "code",
      "metadata": {
        "id": "IbrJ1qIfGP2f"
      },
      "source": [
        "import torch"
      ],
      "execution_count": 4,
      "outputs": []
    },
    {
      "cell_type": "code",
      "metadata": {
        "id": "9_8asHyfGpwf"
      },
      "source": [
        "from torch import nn\n",
        "import torch.nn.functional as F\n",
        "from torchvision import datasets, transforms\n",
        "import matplotlib.pyplot as plt\n",
        "import numpy as np "
      ],
      "execution_count": 5,
      "outputs": []
    },
    {
      "cell_type": "code",
      "metadata": {
        "id": "s5kfGosH79ON"
      },
      "source": [
        "device = torch.device(\"cuda:0\" if torch.cuda.is_available() else \"cpu\")"
      ],
      "execution_count": 6,
      "outputs": []
    },
    {
      "cell_type": "code",
      "metadata": {
        "colab": {
          "base_uri": "https://localhost:8080/"
        },
        "id": "qzJ-cPoJGtFa",
        "outputId": "927b9fec-8e1d-494f-b8da-4bc086fd4d7e"
      },
      "source": [
        "transform= transforms.Compose([transforms.Resize([28, 28])\n",
        "                               , transforms.ToTensor() , # transfor the numpy array to a float tensor\n",
        "                               transforms.Normalize((0.5,), (0.5,) )])\n",
        "                               # normalizes the tensor image with mean and standard deviation in the range -1, 1 from 0,1 \n",
        "                               # nomralization helps reduce Skewness and distortions within out data ensuring a more effective learning process\n",
        "training_dataset = datasets.MNIST(root= './data',train=True, download=True, transform= transform )\n",
        "validation_dataset = datasets.MNIST(root= './data', \n",
        "                                  train=False, download=True, transform= transform )\n"
      ],
      "execution_count": 7,
      "outputs": [
        {
          "output_type": "stream",
          "text": [
            "/usr/local/lib/python3.7/dist-packages/torchvision/datasets/mnist.py:498: UserWarning: The given NumPy array is not writeable, and PyTorch does not support non-writeable tensors. This means you can write to the underlying (supposedly non-writeable) NumPy array using the tensor. You may want to copy the array to protect its data or make it writeable before converting it to a tensor. This type of warning will be suppressed for the rest of this program. (Triggered internally at  /pytorch/torch/csrc/utils/tensor_numpy.cpp:180.)\n",
            "  return torch.from_numpy(parsed.astype(m[2], copy=False)).view(*s)\n"
          ],
          "name": "stderr"
        }
      ]
    },
    {
      "cell_type": "markdown",
      "metadata": {
        "id": "QaPr9CZQRxHZ"
      },
      "source": [
        "## Training Loader"
      ]
    },
    {
      "cell_type": "code",
      "metadata": {
        "id": "lC_yFrxC7KPc"
      },
      "source": [
        "# training_loader = torch.utils.data.DataLoader(training_dataset, batch_size= 100, shuffle = \n",
        "#                                             True)"
      ],
      "execution_count": 8,
      "outputs": []
    },
    {
      "cell_type": "markdown",
      "metadata": {
        "id": "oc_vfM3fUsy6"
      },
      "source": [
        "### Plotting the Images"
      ]
    },
    {
      "cell_type": "markdown",
      "metadata": {
        "id": "8he-0H7fUyCv"
      },
      "source": [
        "To plot the images, we need to convert the tensors back to Numpy arrays"
      ]
    },
    {
      "cell_type": "code",
      "metadata": {
        "id": "0qx9OUCOQoE0"
      },
      "source": [
        "def im_convert(tensor):   # to convert the tensor into numpy arrays\n",
        "  image = tensor.cpu().clone().detach().numpy()\n",
        "  # tensor.detach() creates a tensor that shares storage with tensor that does not require grad \n",
        "  # It detaches the output from the computational graph\n",
        "  # So no gradient will be backpropagated along this variable\n",
        "  image = image.transpose(1,2,0)\n",
        "  # Image is in the form of (1, 28 ,28) that is (channels, width, height)\n",
        "  # We need to swap axes to convert the arrays into (28,28,1) \n",
        "  # print(image.shape)\n",
        "  image = image * np.array((0.5, 0.5, 0.5)) + np.array((0.5, 0.5, 0.5)) # denormalize\n",
        "  image = image.clip(0,1) # clip all the values outside(0,1)\n",
        "  return image"
      ],
      "execution_count": 9,
      "outputs": []
    },
    {
      "cell_type": "code",
      "metadata": {
        "id": "DHvuUi66Zg-U"
      },
      "source": [
        "# dataiter = iter(training_loader)\n",
        "# images, label = dataiter.next()\n",
        "# fig = plt.figure(figsize=(25,6))\n",
        "\n",
        "# for idx in range(20):\n",
        "#   ax = fig.add_subplot(2, 10, idx+1)\n",
        "#   plt.imshow(im_convert(images[idx]))\n",
        "#   ax.set_title(label[idx].item())"
      ],
      "execution_count": 10,
      "outputs": []
    },
    {
      "cell_type": "markdown",
      "metadata": {
        "id": "FAsd_et1bPx7"
      },
      "source": [
        "## Training Loader"
      ]
    },
    {
      "cell_type": "code",
      "metadata": {
        "id": "5fi715ombREF"
      },
      "source": [
        "training_loader = torch.utils.data.DataLoader(training_dataset, batch_size= 100, shuffle = \n",
        "                                            True)"
      ],
      "execution_count": 11,
      "outputs": []
    },
    {
      "cell_type": "code",
      "metadata": {
        "id": "sDZj-NOs3HNM"
      },
      "source": [
        "validation_loader = torch.utils.data.DataLoader(validation_dataset, batch_size= 100, shuffle = \n",
        "                                            False)"
      ],
      "execution_count": 12,
      "outputs": []
    },
    {
      "cell_type": "code",
      "metadata": {
        "colab": {
          "base_uri": "https://localhost:8080/",
          "height": 168
        },
        "id": "MJbNO6xvbVp2",
        "outputId": "701a6656-1970-4d50-f5ab-86732784694b"
      },
      "source": [
        "dataiter = iter(training_loader)\n",
        "images, labels = dataiter.next()\n",
        "fig = plt.figure(figsize=(25, 4))\n",
        "\n",
        "for idx in np.arange(20):\n",
        "  ax = fig.add_subplot(2, 10, idx+1, xticks=[], yticks=[])\n",
        "  plt.imshow(im_convert(images[idx]))\n",
        "  ax.set_title([labels[idx].item()])"
      ],
      "execution_count": 13,
      "outputs": [
        {
          "output_type": "display_data",
          "data": {
            "image/png": "[encoded data removed]",
            "text/plain": [
              "<Figure size 1800x288 with 20 Axes>"
            ]
          },
          "metadata": {
            "tags": []
          }
        }
      ]
    },
    {
      "cell_type": "markdown",
      "metadata": {
        "id": "gwALCRz9kpuv"
      },
      "source": [
        "### Building the Model"
      ]
    },
    {
      "cell_type": "code",
      "metadata": {
        "id": "hSWqbOS4ipTx"
      },
      "source": [
        "class LeNet(nn.Module):\n",
        "  def __init__(self):\n",
        "    super().__init__() # for provision of various methods and attributes\n",
        "    \"\"\"\n",
        "    Conv2d parameters:\n",
        "    number of input channels : 1\n",
        "    number of filters/ output channels : 20\n",
        "    kernel / filter size : 5\n",
        "    strides : 1\n",
        "    \"\"\"\n",
        "    self.conv1 = nn.Conv2d(1, 20, 5, 1)   \n",
        "    self.conv2 = nn.Conv2d(20, 50, 5, 1)\n",
        "    self.fc1 = nn.Linear(4*4*50, 500) # (number of input channels, number of output channels)\n",
        "    \"\"\"\n",
        "    Dropout Layers are often added between two layers having highest number of nodes\n",
        "    In case of this model it is the two linear fully connected layers\n",
        "    \"\"\"\n",
        "    self.dropout1 = nn.Dropout(0.5)\n",
        "    self.fc2 = nn.Linear(500, 10) # (number of input channels, number of output channels)\n",
        "  def forward(self, x):\n",
        "    x = F.relu(self.conv1(x))\n",
        "    \"\"\"\n",
        "    max_pool_2d parameters:\n",
        "    (feedforward input, kernel_width, kernel_height)\n",
        "    \"\"\" \n",
        "    x = F.max_pool2d(x, 2, 2) # cutting the size of the image in half\n",
        "    x = F.relu(self.conv2(x))\n",
        "    x = F.max_pool2d(x, 2, 2) # cutting the size of the image in half\n",
        "    x = x.view(-1, 4*4*50) # reshape the shape into desired output. Similar to .flatten()\n",
        "    # x.view() = x.view( number_of_columns, number_of rows) \n",
        "    x = F.relu(self.fc1(x))\n",
        "    x = self.dropout1(x)\n",
        "    x = self.fc2(x)\n",
        "    \n",
        "    return x\n",
        " # no need to include the padding as the images already have a large black boundaries   "
      ],
      "execution_count": 14,
      "outputs": []
    },
    {
      "cell_type": "markdown",
      "metadata": {
        "id": "BY2NHPBkmvw_"
      },
      "source": [
        "## LeNet Model Architecture"
      ]
    },
    {
      "cell_type": "code",
      "metadata": {
        "colab": {
          "base_uri": "https://localhost:8080/"
        },
        "id": "zg356iwiksps",
        "outputId": "1156064e-a349-4ff6-8db0-b14f90723cd4"
      },
      "source": [
        "model = LeNet().to(device)\n",
        "model"
      ],
      "execution_count": 15,
      "outputs": [
        {
          "output_type": "execute_result",
          "data": {
            "text/plain": [
              "LeNet(\n",
              "  (conv1): Conv2d(1, 20, kernel_size=(5, 5), stride=(1, 1))\n",
              "  (conv2): Conv2d(20, 50, kernel_size=(5, 5), stride=(1, 1))\n",
              "  (fc1): Linear(in_features=800, out_features=500, bias=True)\n",
              "  (dropout1): Dropout(p=0.5, inplace=False)\n",
              "  (fc2): Linear(in_features=500, out_features=10, bias=True)\n",
              ")"
            ]
          },
          "metadata": {
            "tags": []
          },
          "execution_count": 15
        }
      ]
    },
    {
      "cell_type": "markdown",
      "metadata": {
        "id": "wEsCDSBznLRf"
      },
      "source": [
        "## Loss Function"
      ]
    },
    {
      "cell_type": "code",
      "metadata": {
        "id": "ZWeTRWpRnBbm"
      },
      "source": [
        "criterion = nn.CrossEntropyLoss()\n",
        "# CrossEntropyLoss is a combination of log_softmax() and NLLloss()\n",
        "# Used with classification models with n-classes\n",
        "optimizer = torch.optim.Adam(model.parameters(), lr= 0.0001)\n",
        "# ADAM optimizer, most efficient optimizer"
      ],
      "execution_count": 16,
      "outputs": []
    },
    {
      "cell_type": "code",
      "metadata": {
        "colab": {
          "base_uri": "https://localhost:8080/"
        },
        "id": "1NH9qCZE-WMA",
        "outputId": "6ded10a3-25cf-491c-b952-507b5b9a9683"
      },
      "source": [
        "training_loader"
      ],
      "execution_count": 17,
      "outputs": [
        {
          "output_type": "execute_result",
          "data": {
            "text/plain": [
              "<torch.utils.data.dataloader.DataLoader at 0x7fd667190550>"
            ]
          },
          "metadata": {
            "tags": []
          },
          "execution_count": 17
        }
      ]
    },
    {
      "cell_type": "markdown",
      "metadata": {
        "id": "enn_Rcki9ZxF"
      },
      "source": [
        "## Training the Model"
      ]
    },
    {
      "cell_type": "code",
      "metadata": {
        "colab": {
          "base_uri": "https://localhost:8080/"
        },
        "id": "duXogrdBnplH",
        "outputId": "9cbc53e9-1ea6-4de4-8dac-72f234e302d5"
      },
      "source": [
        "epochs = 15\n",
        "running_loss_history = []\n",
        "running_corrects_history = []\n",
        "val_running_loss_history = []\n",
        "val_running_corrects_history = []\n",
        "\n",
        "for e in range(epochs):\n",
        "  \n",
        "  running_loss = 0.0\n",
        "  running_corrects = 0.0\n",
        "  val_running_loss = 0.0\n",
        "  val_running_corrects = 0.0\n",
        "  \n",
        "  for inputs, labels in training_loader:\n",
        "    inputs = inputs.to(device) # store the tensors in the device(GPU)\n",
        "    labels = labels.to(device) # store the tensors in the device(GPU)\n",
        "    outputs = model(inputs)\n",
        "    loss = criterion(outputs, labels)\n",
        "    \n",
        "    optimizer.zero_grad()\n",
        "    loss.backward()\n",
        "    optimizer.step()\n",
        "    \n",
        "    _, preds = torch.max(outputs, 1)\n",
        "    running_loss += loss.item()\n",
        "    running_corrects += torch.sum(preds == labels.data)\n",
        "\n",
        "  else:\n",
        "    with torch.no_grad():\n",
        "      for val_inputs, val_labels in validation_loader:\n",
        "        val_inputs = val_inputs.to(device) # store the tensors in the device(GPU)\n",
        "        val_labels = val_labels.to(device) # store the tensors in the device(GPU)\n",
        "        val_outputs = model(val_inputs)\n",
        "        val_loss = criterion(val_outputs, val_labels)\n",
        "        \n",
        "        _, val_preds = torch.max(val_outputs, 1)\n",
        "        val_running_loss += val_loss.item()\n",
        "        val_running_corrects += torch.sum(val_preds == val_labels.data)\n",
        "      \n",
        "    epoch_loss = running_loss/len(training_loader)\n",
        "    epoch_acc = running_corrects.float()/ len(training_loader)\n",
        "    running_loss_history.append(epoch_loss)\n",
        "    running_corrects_history.append(epoch_acc)\n",
        "    \n",
        "    val_epoch_loss = val_running_loss/len(validation_loader)\n",
        "    val_epoch_acc = val_running_corrects.float()/ len(validation_loader)\n",
        "    val_running_loss_history.append(val_epoch_loss)\n",
        "    val_running_corrects_history.append(val_epoch_acc)\n",
        "    print('epoch :', (e+1))\n",
        "    print('training loss: {:.4f}, acc {:.4f} '.format(epoch_loss, epoch_acc.item()))\n",
        "    print('validation loss: {:.4f}, validation acc {:.4f} '.format(val_epoch_loss, val_epoch_acc.item()))"
      ],
      "execution_count": 18,
      "outputs": [
        {
          "output_type": "stream",
          "text": [
            "/usr/local/lib/python3.7/dist-packages/torch/nn/functional.py:718: UserWarning: Named tensors and all their associated APIs are an experimental feature and subject to change. Please do not use them for anything important until they are released as stable. (Triggered internally at  /pytorch/c10/core/TensorImpl.h:1156.)\n",
            "  return torch.max_pool2d(input, kernel_size, stride, padding, dilation, ceil_mode)\n"
          ],
          "name": "stderr"
        },
        {
          "output_type": "stream",
          "text": [
            "epoch : 1\n",
            "training loss: 0.6091, acc 83.8383 \n",
            "validation loss: 0.1981, validation acc 94.2500 \n",
            "epoch : 2\n",
            "training loss: 0.1567, acc 95.4500 \n",
            "validation loss: 0.1092, validation acc 96.7800 \n",
            "epoch : 3\n",
            "training loss: 0.1023, acc 96.9650 \n",
            "validation loss: 0.0767, validation acc 97.6200 \n",
            "epoch : 4\n",
            "training loss: 0.0790, acc 97.6867 \n",
            "validation loss: 0.0656, validation acc 98.0100 \n",
            "epoch : 5\n",
            "training loss: 0.0646, acc 98.0317 \n",
            "validation loss: 0.0549, validation acc 98.2900 \n",
            "epoch : 6\n",
            "training loss: 0.0557, acc 98.3150 \n",
            "validation loss: 0.0483, validation acc 98.4200 \n",
            "epoch : 7\n",
            "training loss: 0.0502, acc 98.4883 \n",
            "validation loss: 0.0436, validation acc 98.7100 \n",
            "epoch : 8\n",
            "training loss: 0.0446, acc 98.6917 \n",
            "validation loss: 0.0406, validation acc 98.7200 \n",
            "epoch : 9\n",
            "training loss: 0.0396, acc 98.8217 \n",
            "validation loss: 0.0377, validation acc 98.8400 \n",
            "epoch : 10\n",
            "training loss: 0.0364, acc 98.9150 \n",
            "validation loss: 0.0342, validation acc 98.9600 \n",
            "epoch : 11\n",
            "training loss: 0.0342, acc 98.9583 \n",
            "validation loss: 0.0360, validation acc 98.9300 \n",
            "epoch : 12\n",
            "training loss: 0.0311, acc 99.0300 \n",
            "validation loss: 0.0316, validation acc 98.9800 \n",
            "epoch : 13\n",
            "training loss: 0.0293, acc 99.1117 \n",
            "validation loss: 0.0306, validation acc 98.9600 \n",
            "epoch : 14\n",
            "training loss: 0.0272, acc 99.1833 \n",
            "validation loss: 0.0289, validation acc 99.0200 \n",
            "epoch : 15\n",
            "training loss: 0.0252, acc 99.2467 \n",
            "validation loss: 0.0298, validation acc 99.0600 \n"
          ],
          "name": "stdout"
        }
      ]
    },
    {
      "cell_type": "code",
      "metadata": {
        "colab": {
          "base_uri": "https://localhost:8080/",
          "height": 282
        },
        "id": "j_A1nCGE9r5j",
        "outputId": "7a808915-9c84-4211-baa4-4637e217d50a"
      },
      "source": [
        "plt.plot(running_loss_history, label='training loss')\n",
        "plt.plot(val_running_loss_history, label='validation loss')\n",
        "plt.legend()"
      ],
      "execution_count": 19,
      "outputs": [
        {
          "output_type": "execute_result",
          "data": {
            "text/plain": [
              "<matplotlib.legend.Legend at 0x7fd664492350>"
            ]
          },
          "metadata": {
            "tags": []
          },
          "execution_count": 19
        },
        {
          "output_type": "display_data",
          "data": {
            "image/png": "[encoded data removed]",
            "text/plain": [
              "<Figure size 432x288 with 1 Axes>"
            ]
          },
          "metadata": {
            "tags": [],
            "needs_background": "light"
          }
        }
      ]
    },
    {
      "cell_type": "code",
      "metadata": {
        "colab": {
          "base_uri": "https://localhost:8080/",
          "height": 286
        },
        "id": "2sEEuopRAYff",
        "outputId": "35998c9e-cffc-4b48-f877-c1cabaefe08a"
      },
      "source": [
        "plt.plot(running_corrects_history, label='training accuracy')\n",
        "plt.plot(val_running_corrects_history, label='validation accuracy')\n",
        "plt.legend()"
      ],
      "execution_count": 20,
      "outputs": [
        {
          "output_type": "execute_result",
          "data": {
            "text/plain": [
              "<matplotlib.legend.Legend at 0x7fd664e81110>"
            ]
          },
          "metadata": {
            "tags": []
          },
          "execution_count": 20
        },
        {
          "output_type": "display_data",
          "data": {
            "image/png": "[encoded data removed]",
            "text/plain": [
              "<Figure size 432x288 with 1 Axes>"
            ]
          },
          "metadata": {
            "tags": [],
            "needs_background": "light"
          }
        }
      ]
    },
    {
      "cell_type": "code",
      "metadata": {
        "colab": {
          "base_uri": "https://localhost:8080/"
        },
        "id": "Yi-r303GAfgD",
        "outputId": "272fe499-a92e-4372-a880-3c61a1414d58"
      },
      "source": [
        "!pip3 uninstall pillow"
      ],
      "execution_count": 21,
      "outputs": [
        {
          "output_type": "stream",
          "text": [
            "Uninstalling Pillow-8.2.0:\n",
            "  Would remove:\n",
            "    /usr/local/lib/python3.7/dist-packages/PIL/*\n",
            "    /usr/local/lib/python3.7/dist-packages/Pillow-8.2.0.dist-info/*\n",
            "    /usr/local/lib/python3.7/dist-packages/Pillow.libs/libXau-312dbc56.so.6.0.0\n",
            "    /usr/local/lib/python3.7/dist-packages/Pillow.libs/libXdmcp-e15573e7.so.6.0.0\n",
            "    /usr/local/lib/python3.7/dist-packages/Pillow.libs/libfreetype-6ad068c6.so.6.17.4\n",
            "    /usr/local/lib/python3.7/dist-packages/Pillow.libs/libharfbuzz-ba5e3cba.so.0.20800.0\n",
            "    /usr/local/lib/python3.7/dist-packages/Pillow.libs/libjpeg-ba7bf5af.so.9.4.0\n",
            "    /usr/local/lib/python3.7/dist-packages/Pillow.libs/liblcms2-a76503ec.so.2.0.12\n",
            "    /usr/local/lib/python3.7/dist-packages/Pillow.libs/liblzma-99449165.so.5.2.5\n",
            "    /usr/local/lib/python3.7/dist-packages/Pillow.libs/libopenjp2-f0612b30.so.2.4.0\n",
            "    /usr/local/lib/python3.7/dist-packages/Pillow.libs/libpng16-bedcb7ea.so.16.37.0\n",
            "    /usr/local/lib/python3.7/dist-packages/Pillow.libs/libtiff-d147fec3.so.5.6.0\n",
            "    /usr/local/lib/python3.7/dist-packages/Pillow.libs/libwebp-305e7d94.so.7.1.1\n",
            "    /usr/local/lib/python3.7/dist-packages/Pillow.libs/libwebpdemux-2a7a19d5.so.2.0.7\n",
            "    /usr/local/lib/python3.7/dist-packages/Pillow.libs/libwebpmux-1d369df0.so.3.0.6\n",
            "    /usr/local/lib/python3.7/dist-packages/Pillow.libs/libxcb-2dfad6c3.so.1.1.0\n",
            "    /usr/local/lib/python3.7/dist-packages/Pillow.libs/libz-a147dcb0.so.1.2.3\n",
            "Proceed (y/n)? n\n"
          ],
          "name": "stdout"
        }
      ]
    },
    {
      "cell_type": "code",
      "metadata": {
        "colab": {
          "base_uri": "https://localhost:8080/"
        },
        "id": "sbBFnRKJc0os",
        "outputId": "dc0f7219-b7f2-494e-afa9-683461d2e177"
      },
      "source": [
        "!pip3 install pillow"
      ],
      "execution_count": 22,
      "outputs": [
        {
          "output_type": "stream",
          "text": [
            "Requirement already satisfied: pillow in /usr/local/lib/python3.7/dist-packages (8.2.0)\n"
          ],
          "name": "stdout"
        }
      ]
    },
    {
      "cell_type": "code",
      "metadata": {
        "colab": {
          "base_uri": "https://localhost:8080/",
          "height": 168
        },
        "id": "0vK5fYm-AohP",
        "outputId": "3cb01123-d428-42ef-c93f-f4fb3ad99cb7"
      },
      "source": [
        "dataiter = iter(validation_loader)\n",
        "images, labels = dataiter.next()\n",
        "images = images.to(device)\n",
        "labels = labels.to(device)\n",
        "output = model(images)\n",
        "_, preds = torch.max(output, 1)\n",
        "\n",
        "fig = plt.figure(figsize=(25, 4))\n",
        "\n",
        "for idx in np.arange(20):\n",
        "  ax = fig.add_subplot(2, 10, idx+1, xticks=[], yticks=[])\n",
        "  plt.imshow(im_convert(images[idx]))\n",
        "  ax.set_title(\"{} ({})\".format(str(preds[idx].item()), str(labels[idx].item())), color=(\"green\" if preds[idx]==labels[idx] else \"red\"))\n"
      ],
      "execution_count": 23,
      "outputs": [
        {
          "output_type": "display_data",
          "data": {
            "image/png": "[encoded data removed]",
            "text/plain": [
              "<Figure size 1800x288 with 20 Axes>"
            ]
          },
          "metadata": {
            "tags": []
          }
        }
      ]
    },
    {
      "cell_type": "code",
      "metadata": {
        "id": "g2bV8UsFKAgL"
      },
      "source": [
        "from google.colab import files\n",
        "from io import BytesIO\n",
        "from PIL import Image\n",
        "\n",
        "# uploaded = files.upload()\n",
        "# im = Image.open(BytesIO(uploaded['5.jpg']))"
      ],
      "execution_count": 24,
      "outputs": []
    },
    {
      "cell_type": "code",
      "metadata": {
        "id": "NBGos_xNKDvy"
      },
      "source": [
        "import PIL.ImageOps\n"
      ],
      "execution_count": 25,
      "outputs": []
    },
    {
      "cell_type": "code",
      "metadata": {
        "colab": {
          "base_uri": "https://localhost:8080/",
          "height": 286
        },
        "id": "lUaSmuIMdXEG",
        "outputId": "1c983ea5-c226-46c4-ee51-73583e4273a6"
      },
      "source": [
        "\n",
        "import requests\n",
        "from PIL import Image\n",
        "\n",
        "url = 'https://images.homedepot-static.com/productImages/007164ea-d47e-4f66-8d8c-fd9f621984a2/svn/architectural-mailboxes-house-letters-numbers-3585b-5-64_1000.jpg'\n",
        "response = requests.get(url, stream = True)\n",
        "img = Image.open(response.raw)\n",
        "plt.imshow(img)"
      ],
      "execution_count": 26,
      "outputs": [
        {
          "output_type": "execute_result",
          "data": {
            "text/plain": [
              "<matplotlib.image.AxesImage at 0x7fd663b900d0>"
            ]
          },
          "metadata": {
            "tags": []
          },
          "execution_count": 26
        },
        {
          "output_type": "display_data",
          "data": {
            "image/png": "[encoded data removed]",
            "text/plain": [
              "<Figure size 432x288 with 1 Axes>"
            ]
          },
          "metadata": {
            "tags": [],
            "needs_background": "light"
          }
        }
      ]
    },
    {
      "cell_type": "code",
      "metadata": {
        "colab": {
          "base_uri": "https://localhost:8080/",
          "height": 282
        },
        "id": "9DLsWKFwdckQ",
        "outputId": "f495f2d5-4f76-4ce4-979c-4c27aaa4f3f7"
      },
      "source": [
        "img = PIL.ImageOps.invert(img)\n",
        "img = img.convert('1')\n",
        "img = transform(img) \n",
        "plt.imshow(im_convert(img))"
      ],
      "execution_count": 27,
      "outputs": [
        {
          "output_type": "execute_result",
          "data": {
            "text/plain": [
              "<matplotlib.image.AxesImage at 0x7fd664f15b90>"
            ]
          },
          "metadata": {
            "tags": []
          },
          "execution_count": 27
        },
        {
          "output_type": "display_data",
          "data": {
            "image/png": "[encoded data removed]",
            "text/plain": [
              "<Figure size 432x288 with 1 Axes>"
            ]
          },
          "metadata": {
            "tags": [],
            "needs_background": "light"
          }
        }
      ]
    },
    {
      "cell_type": "code",
      "metadata": {
        "colab": {
          "base_uri": "https://localhost:8080/"
        },
        "id": "F-q1Lm1Jg_kH",
        "outputId": "5b25250b-b359-4505-b116-8029df5be6e6"
      },
      "source": [
        "\n",
        "images = img.to(device)\n",
        "image = images[0].unsqueeze(0).unsqueeze(0)\n",
        "output = model(image)\n",
        "_, pred = torch.max(output, 1)\n",
        "print(pred.item())"
      ],
      "execution_count": 28,
      "outputs": [
        {
          "output_type": "stream",
          "text": [
            "5\n"
          ],
          "name": "stdout"
        }
      ]
    },
    {
      "cell_type": "code",
      "metadata": {
        "id": "UfIDmdevhBz-"
      },
      "source": [
        ""
      ],
      "execution_count": null,
      "outputs": []
    }
  ]
}