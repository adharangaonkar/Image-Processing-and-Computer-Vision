{
  "nbformat": 4,
  "nbformat_minor": 0,
  "metadata": {
    "colab": {
      "name": "Image Recognition MNIST Dataset.ipynb",
      "provenance": [],
      "authorship_tag": "ABX9TyMH7ENDA4JewYfeSpx/LkTV",
      "include_colab_link": true
    },
    "kernelspec": {
      "display_name": "Python 3",
      "name": "python3"
    },
    "language_info": {
      "name": "python"
    }
  },
  "cells": [
    {
      "cell_type": "markdown",
      "metadata": {
        "id": "view-in-github",
        "colab_type": "text"
      },
      "source": [
        "<a href=\"https://colab.research.google.com/github/adharangaonkar/Image-Processing-and-Computer-Vision/blob/main/Digit_Recognition/Image_Recognition_MNIST_Dataset.ipynb\" target=\"_parent\"><img src=\"https://colab.research.google.com/assets/colab-badge.svg\" alt=\"Open In Colab\"/></a>"
      ]
    },
    {
      "cell_type": "code",
      "metadata": {
        "id": "LQ2z1TtdZ1DW"
      },
      "source": [
        "import torch"
      ],
      "execution_count": 23,
      "outputs": []
    },
    {
      "cell_type": "code",
      "metadata": {
        "id": "-I8NziEaFT2_"
      },
      "source": [
        "from torch import nn\n",
        "import torch.nn.functional as F"
      ],
      "execution_count": 24,
      "outputs": []
    },
    {
      "cell_type": "code",
      "metadata": {
        "colab": {
          "base_uri": "https://localhost:8080/"
        },
        "id": "iyaJkVpWaOFh",
        "outputId": "38293133-36f6-46d9-ada9-cdfc1af6a3ca"
      },
      "source": [
        "!pip3 install torchvision"
      ],
      "execution_count": 25,
      "outputs": [
        {
          "output_type": "stream",
          "text": [
            "Requirement already satisfied: torchvision in /usr/local/lib/python3.7/dist-packages (0.9.1+cu101)\n",
            "Requirement already satisfied: pillow>=4.1.1 in /usr/local/lib/python3.7/dist-packages (from torchvision) (7.1.2)\n",
            "Requirement already satisfied: numpy in /usr/local/lib/python3.7/dist-packages (from torchvision) (1.19.5)\n",
            "Requirement already satisfied: torch==1.8.1 in /usr/local/lib/python3.7/dist-packages (from torchvision) (1.8.1+cu101)\n",
            "Requirement already satisfied: typing-extensions in /usr/local/lib/python3.7/dist-packages (from torch==1.8.1->torchvision) (3.7.4.3)\n"
          ],
          "name": "stdout"
        }
      ]
    },
    {
      "cell_type": "code",
      "metadata": {
        "id": "oa8I2Q76p5yC"
      },
      "source": [
        "from torchvision import datasets, transforms\n",
        "import matplotlib.pyplot as plt\n",
        "import numpy as np"
      ],
      "execution_count": 26,
      "outputs": []
    },
    {
      "cell_type": "code",
      "metadata": {
        "id": "Fx7DR4YtqGiE"
      },
      "source": [
        "transform= transforms.Compose([transforms.ToTensor(),\n",
        "                               transforms.Normalize((0.5,), (0.5,))\n",
        "                               ])\n",
        "training_dataset = datasets.MNIST(root= './data', \n",
        "                                  train=True, download=True, transform= transform )\n",
        "validation_dataset = datasets.MNIST(root= './data', \n",
        "                                  train=False, download=True, transform= transform )"
      ],
      "execution_count": 27,
      "outputs": []
    },
    {
      "cell_type": "code",
      "metadata": {
        "colab": {
          "base_uri": "https://localhost:8080/"
        },
        "id": "uKmxRyqf3_CC",
        "outputId": "e366653e-aff8-4517-805d-cec9bc8d445e"
      },
      "source": [
        "training_dataset"
      ],
      "execution_count": 28,
      "outputs": [
        {
          "output_type": "execute_result",
          "data": {
            "text/plain": [
              "Dataset MNIST\n",
              "    Number of datapoints: 60000\n",
              "    Root location: ./data\n",
              "    Split: Train\n",
              "    StandardTransform\n",
              "Transform: Compose(\n",
              "               ToTensor()\n",
              "               Normalize(mean=(0.5,), std=(0.5,))\n",
              "           )"
            ]
          },
          "metadata": {
            "tags": []
          },
          "execution_count": 28
        }
      ]
    },
    {
      "cell_type": "code",
      "metadata": {
        "id": "aeA-yYNC7T4A"
      },
      "source": [
        ""
      ],
      "execution_count": 28,
      "outputs": []
    },
    {
      "cell_type": "code",
      "metadata": {
        "id": "3y2-xamc5-tq"
      },
      "source": [
        "training_loader = torch.utils.data.DataLoader(training_dataset, batch_size= 100, shuffle = \n",
        "                                            True)"
      ],
      "execution_count": 29,
      "outputs": []
    },
    {
      "cell_type": "code",
      "metadata": {
        "id": "sDZj-NOs3HNM"
      },
      "source": [
        "validation_loader = torch.utils.data.DataLoader(validation_dataset, batch_size= 100, shuffle = \n",
        "                                            False)"
      ],
      "execution_count": 30,
      "outputs": []
    },
    {
      "cell_type": "code",
      "metadata": {
        "id": "Fr_e52O-qMMC"
      },
      "source": [
        "def im_covert(tensor):   # to convert the tensor into numpy arrays\n",
        "  image = tensor.clone().detach().numpy()\n",
        "  image = image.transpose(1,2,0)\n",
        "  # print(image.shape)\n",
        "  image = image * np.array((0.5, 0.5, 0.5)) + np.array((0.5, 0.5, 0.5)) #d denormalize\n",
        "  image = image.clip(0,1)\n",
        "  return image"
      ],
      "execution_count": 31,
      "outputs": []
    },
    {
      "cell_type": "code",
      "metadata": {
        "colab": {
          "base_uri": "https://localhost:8080/",
          "height": 183
        },
        "id": "qO7NASUX45Z5",
        "outputId": "efdb8f4d-be00-4260-cb64-23c0b3eda613"
      },
      "source": [
        "dataiter = iter(training_loader)\n",
        "images, label = dataiter.next()\n",
        "fig = plt.figure(figsize=(25,6))\n",
        "\n",
        "for idx in range(20):\n",
        "  ax = fig.add_subplot(2, 10, idx+1)\n",
        "  plt.imshow(im_covert(images[idx]))\n",
        "  ax.set_title(label[idx].item())"
      ],
      "execution_count": 32,
      "outputs": [
        {
          "output_type": "display_data",
          "data": {
            "image/png": "[encoded data removed]",
            "text/plain": [
              "<Figure size 1800x432 with 20 Axes>"
            ]
          },
          "metadata": {
            "tags": [],
            "needs_background": "light"
          }
        }
      ]
    },
    {
      "cell_type": "code",
      "metadata": {
        "id": "3IX2z3oP8uCf"
      },
      "source": [
        "class Classifier(nn.Module):\n",
        "  def __init__(self, D_in, H1, H2, D_out):\n",
        "    super().__init__()\n",
        "    self.linear1 = nn.Linear(D_in, H1)\n",
        "    self.linear2 = nn.Linear(H1, H2)\n",
        "    self.linear3 = nn.Linear(H2, D_out)\n",
        "  def forward(self, x):\n",
        "    x = F.relu(self.linear1(x)) \n",
        "    x = F.relu(self.linear2(x))\n",
        "    x = self.linear3(x)\n",
        "    return x\n"
      ],
      "execution_count": 33,
      "outputs": []
    },
    {
      "cell_type": "code",
      "metadata": {
        "colab": {
          "base_uri": "https://localhost:8080/"
        },
        "id": "kQJx13wLFHVh",
        "outputId": "0ede8132-67b7-4d2d-af54-e175321f61a0"
      },
      "source": [
        "model = Classifier(784, 125, 65, 10)\n",
        "model"
      ],
      "execution_count": 34,
      "outputs": [
        {
          "output_type": "execute_result",
          "data": {
            "text/plain": [
              "Classifier(\n",
              "  (linear1): Linear(in_features=784, out_features=125, bias=True)\n",
              "  (linear2): Linear(in_features=125, out_features=65, bias=True)\n",
              "  (linear3): Linear(in_features=65, out_features=10, bias=True)\n",
              ")"
            ]
          },
          "metadata": {
            "tags": []
          },
          "execution_count": 34
        }
      ]
    },
    {
      "cell_type": "code",
      "metadata": {
        "id": "DvcGJMCgLAIS"
      },
      "source": [
        "criterion = nn.CrossEntropyLoss()\n",
        "optimizer = torch.optim.Adam(model.parameters(), lr= 0.0001)"
      ],
      "execution_count": 35,
      "outputs": []
    },
    {
      "cell_type": "code",
      "metadata": {
        "colab": {
          "base_uri": "https://localhost:8080/"
        },
        "id": "rMt7KiTZMHDk",
        "outputId": "324194b4-59cd-4493-d24e-28d64727ae10"
      },
      "source": [
        "images.shape"
      ],
      "execution_count": 36,
      "outputs": [
        {
          "output_type": "execute_result",
          "data": {
            "text/plain": [
              "torch.Size([100, 1, 28, 28])"
            ]
          },
          "metadata": {
            "tags": []
          },
          "execution_count": 36
        }
      ]
    },
    {
      "cell_type": "code",
      "metadata": {
        "colab": {
          "base_uri": "https://localhost:8080/"
        },
        "id": "nS1EUkWfNMGz",
        "outputId": "cc5c3226-7e9f-47b8-ba98-e0b4d7172404"
      },
      "source": [
        "images.view(images.shape[0], -1).size()"
      ],
      "execution_count": 37,
      "outputs": [
        {
          "output_type": "execute_result",
          "data": {
            "text/plain": [
              "torch.Size([100, 784])"
            ]
          },
          "metadata": {
            "tags": []
          },
          "execution_count": 37
        }
      ]
    },
    {
      "cell_type": "code",
      "metadata": {
        "colab": {
          "base_uri": "https://localhost:8080/"
        },
        "id": "rDzJaEXuLl-v",
        "outputId": "ef99241a-bcd7-443d-86b6-e3117c4e45e9"
      },
      "source": [
        "epochs = 12\n",
        "running_loss_history = []\n",
        "running_corrects_history = []\n",
        "val_running_loss_history = []\n",
        "val_running_corrects_history = []\n",
        "for i in range(epochs):\n",
        "  running_loss = 0.0\n",
        "  running_corrects = 0.0\n",
        "  val_running_loss = 0.0\n",
        "  val_running_corrects = 0.0\n",
        "  for inputs, labels in training_loader:\n",
        "    # we will have to convert the image from size 1, 28,28 to a single row tensor 1, 784\n",
        "    inputs = inputs.view(inputs.shape[0], -1)\n",
        "    outputs = model(inputs)\n",
        "    loss = criterion(outputs, labels)\n",
        "\n",
        "    optimizer.zero_grad()\n",
        "    loss.backward()\n",
        "    optimizer.step()\n",
        "\n",
        "    _, preds = torch.max(outputs, 1)\n",
        "    running_loss += loss.item()\n",
        "    running_corrects += torch.sum(preds == labels.data)\n",
        "\n",
        "  else:\n",
        "    with torch.no_grad(): # as there is no need for derivates in validation as no grads are to be updated\n",
        "      for val_inputs, val_labels in validation_loader:\n",
        "        # we will have to convert the image from size 1, 28,28 to a single row tensor 1, 784\n",
        "        val_inputs = val_inputs.view(val_inputs.shape[0], -1)\n",
        "        val_outputs = model(val_inputs)\n",
        "        val_loss = criterion(val_outputs, val_labels)\n",
        "        _, val_preds = torch.max(val_outputs, 1)\n",
        "        val_running_loss += val_loss.item()\n",
        "        val_running_corrects += torch.sum(val_preds == val_labels.data)\n",
        "\n",
        "\n",
        "    epoch_loss = running_loss/len(training_loader)\n",
        "    epoch_acc = running_corrects.float()/len(training_loader)\n",
        "    running_loss_history.append(epoch_loss)\n",
        "    running_corrects_history.append(epoch_acc)\n",
        "\n",
        "    val_epoch_loss = val_running_loss/len(validation_loader)\n",
        "    val_epoch_acc = val_running_corrects.float()/len(validation_loader)\n",
        "    val_running_loss_history.append(val_epoch_loss)\n",
        "    val_running_corrects_history.append(val_epoch_acc)\n",
        "\n",
        "    print('Epoch:', i+1)\n",
        "    print('Training Loss: {:.4f}, Training Accuracy{:.4f}'.format(epoch_loss, epoch_acc.item()))\n",
        "    print('Validation  Loss: {:.4f}, Validation Accuracy{:.4f}'.format(val_epoch_loss, val_epoch_acc.item()))\n"
      ],
      "execution_count": 38,
      "outputs": [
        {
          "output_type": "stream",
          "text": [
            "Epoch: 1\n",
            "Training Loss: 0.9148, Training Accuracy78.0067\n",
            "Validation  Loss: 0.4178, Validation Accuracy88.8300\n",
            "Epoch: 2\n",
            "Training Loss: 0.3753, Training Accuracy89.4750\n",
            "Validation  Loss: 0.3239, Validation Accuracy90.8400\n",
            "Epoch: 3\n",
            "Training Loss: 0.3173, Training Accuracy90.8483\n",
            "Validation  Loss: 0.2859, Validation Accuracy91.8300\n",
            "Epoch: 4\n",
            "Training Loss: 0.2851, Training Accuracy91.6783\n",
            "Validation  Loss: 0.2594, Validation Accuracy92.5500\n",
            "Epoch: 5\n",
            "Training Loss: 0.2606, Training Accuracy92.4683\n",
            "Validation  Loss: 0.2417, Validation Accuracy93.1200\n",
            "Epoch: 6\n",
            "Training Loss: 0.2404, Training Accuracy93.0750\n",
            "Validation  Loss: 0.2252, Validation Accuracy93.5300\n",
            "Epoch: 7\n",
            "Training Loss: 0.2215, Training Accuracy93.6333\n",
            "Validation  Loss: 0.2190, Validation Accuracy93.3600\n",
            "Epoch: 8\n",
            "Training Loss: 0.2050, Training Accuracy94.0300\n",
            "Validation  Loss: 0.1938, Validation Accuracy94.5200\n",
            "Epoch: 9\n",
            "Training Loss: 0.1897, Training Accuracy94.4133\n",
            "Validation  Loss: 0.1859, Validation Accuracy94.4500\n",
            "Epoch: 10\n",
            "Training Loss: 0.1758, Training Accuracy94.8400\n",
            "Validation  Loss: 0.1721, Validation Accuracy94.7800\n",
            "Epoch: 11\n",
            "Training Loss: 0.1639, Training Accuracy95.2250\n",
            "Validation  Loss: 0.1612, Validation Accuracy95.2600\n",
            "Epoch: 12\n",
            "Training Loss: 0.1526, Training Accuracy95.5517\n",
            "Validation  Loss: 0.1490, Validation Accuracy95.7000\n"
          ],
          "name": "stdout"
        }
      ]
    },
    {
      "cell_type": "code",
      "metadata": {
        "colab": {
          "base_uri": "https://localhost:8080/",
          "height": 282
        },
        "id": "WAlONzg00gH5",
        "outputId": "ccb191ad-65d5-45ec-b959-3905bc6a43e3"
      },
      "source": [
        "plt.plot(running_loss_history, label='training loss')\n",
        "plt.plot(val_running_loss_history, label='validation loss')\n",
        "plt.legend()"
      ],
      "execution_count": 41,
      "outputs": [
        {
          "output_type": "execute_result",
          "data": {
            "text/plain": [
              "<matplotlib.legend.Legend at 0x7f3d24e0de90>"
            ]
          },
          "metadata": {
            "tags": []
          },
          "execution_count": 41
        },
        {
          "output_type": "display_data",
          "data": {
            "image/png": "[encoded data removed]",
            "text/plain": [
              "<Figure size 432x288 with 1 Axes>"
            ]
          },
          "metadata": {
            "tags": [],
            "needs_background": "light"
          }
        }
      ]
    },
    {
      "cell_type": "code",
      "metadata": {
        "colab": {
          "base_uri": "https://localhost:8080/",
          "height": 282
        },
        "id": "4Ws1nuFQ9u1D",
        "outputId": "3c5e66d1-bf83-4f8d-e1c1-d52f4b2ea248"
      },
      "source": [
        "plt.plot(running_corrects_history, label='training accuracy')\n",
        "plt.plot(val_running_corrects_history, label='validation accuracy')\n",
        "plt.legend()"
      ],
      "execution_count": 42,
      "outputs": [
        {
          "output_type": "execute_result",
          "data": {
            "text/plain": [
              "<matplotlib.legend.Legend at 0x7f3d2402e610>"
            ]
          },
          "metadata": {
            "tags": []
          },
          "execution_count": 42
        },
        {
          "output_type": "display_data",
          "data": {
            "image/png": "[encoded data removed]",
            "text/plain": [
              "<Figure size 432x288 with 1 Axes>"
            ]
          },
          "metadata": {
            "tags": [],
            "needs_background": "light"
          }
        }
      ]
    },
    {
      "cell_type": "code",
      "metadata": {
        "id": "HNP5dp_F_bYP"
      },
      "source": [
        ""
      ],
      "execution_count": 40,
      "outputs": []
    },
    {
      "cell_type": "code",
      "metadata": {
        "id": "0axZVgsZ19jI"
      },
      "source": [
        ""
      ],
      "execution_count": 40,
      "outputs": []
    }
  ]
}