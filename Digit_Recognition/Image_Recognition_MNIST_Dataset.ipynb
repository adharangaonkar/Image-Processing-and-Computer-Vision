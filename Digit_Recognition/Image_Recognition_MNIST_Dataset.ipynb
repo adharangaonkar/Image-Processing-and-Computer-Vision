{
  "nbformat": 4,
  "nbformat_minor": 0,
  "metadata": {
    "colab": {
      "name": "Image Recognition MNIST Dataset.ipynb",
      "provenance": [],
      "authorship_tag": "ABX9TyMHhStIratdtGvj/2RiMw0c",
      "include_colab_link": true
    },
    "kernelspec": {
      "display_name": "Python 3",
      "name": "python3"
    },
    "language_info": {
      "name": "python"
    }
  },
  "cells": [
    {
      "cell_type": "markdown",
      "metadata": {
        "id": "view-in-github",
        "colab_type": "text"
      },
      "source": [
        "<a href=\"https://colab.research.google.com/github/adharangaonkar/Image-Processing-and-Computer-Vision/blob/main/Digit_Recognition/Image_Recognition_MNIST_Dataset.ipynb\" target=\"_parent\"><img src=\"https://colab.research.google.com/assets/colab-badge.svg\" alt=\"Open In Colab\"/></a>"
      ]
    },
    {
      "cell_type": "code",
      "metadata": {
        "id": "LQ2z1TtdZ1DW"
      },
      "source": [
        "import torch"
      ],
      "execution_count": 100,
      "outputs": []
    },
    {
      "cell_type": "code",
      "metadata": {
        "id": "-I8NziEaFT2_"
      },
      "source": [
        "from torch import nn\n",
        "import torch.nn.functional as F"
      ],
      "execution_count": 101,
      "outputs": []
    },
    {
      "cell_type": "code",
      "metadata": {
        "colab": {
          "base_uri": "https://localhost:8080/",
          "height": 308
        },
        "id": "iyaJkVpWaOFh",
        "outputId": "77d51819-4569-492f-e14f-4bd836a6830c"
      },
      "source": [
        "!pip3 install torchvision"
      ],
      "execution_count": 102,
      "outputs": [
        {
          "output_type": "stream",
          "text": [
            "Requirement already satisfied: torchvision in /usr/local/lib/python3.7/dist-packages (0.9.1+cu101)\n",
            "Requirement already satisfied: numpy in /usr/local/lib/python3.7/dist-packages (from torchvision) (1.19.5)\n",
            "Requirement already satisfied: torch==1.8.1 in /usr/local/lib/python3.7/dist-packages (from torchvision) (1.8.1+cu101)\n",
            "Collecting pillow>=4.1.1\n",
            "  Using cached https://files.pythonhosted.org/packages/33/34/542152297dcc6c47a9dcb0685eac6d652d878ed3cea83bf2b23cb988e857/Pillow-8.2.0-cp37-cp37m-manylinux1_x86_64.whl\n",
            "Requirement already satisfied: typing-extensions in /usr/local/lib/python3.7/dist-packages (from torch==1.8.1->torchvision) (3.7.4.3)\n",
            "\u001b[31mERROR: albumentations 0.1.12 has requirement imgaug<0.2.7,>=0.2.5, but you'll have imgaug 0.2.9 which is incompatible.\u001b[0m\n",
            "Installing collected packages: pillow\n",
            "  Found existing installation: Pillow 4.0.0\n",
            "    Uninstalling Pillow-4.0.0:\n",
            "      Successfully uninstalled Pillow-4.0.0\n",
            "Successfully installed pillow-8.2.0\n"
          ],
          "name": "stdout"
        },
        {
          "output_type": "display_data",
          "data": {
            "application/vnd.colab-display-data+json": {
              "pip_warning": {
                "packages": [
                  "PIL"
                ]
              }
            }
          },
          "metadata": {
            "tags": []
          }
        }
      ]
    },
    {
      "cell_type": "code",
      "metadata": {
        "id": "oa8I2Q76p5yC"
      },
      "source": [
        "from torchvision import datasets, transforms\n",
        "import matplotlib.pyplot as plt\n",
        "import numpy as np"
      ],
      "execution_count": 103,
      "outputs": []
    },
    {
      "cell_type": "code",
      "metadata": {
        "id": "Fx7DR4YtqGiE"
      },
      "source": [
        "transform= transforms.Compose([transforms.Resize([28, 28])\n",
        "                               , transforms.ToTensor(),\n",
        "                               transforms.Normalize((0.5,), (0.5,))\n",
        "                               ])\n",
        "training_dataset = datasets.MNIST(root= './data', \n",
        "                                  train=True, download=True, transform= transform )\n",
        "validation_dataset = datasets.MNIST(root= './data', \n",
        "                                  train=False, download=True, transform= transform )"
      ],
      "execution_count": 104,
      "outputs": []
    },
    {
      "cell_type": "code",
      "metadata": {
        "colab": {
          "base_uri": "https://localhost:8080/"
        },
        "id": "uKmxRyqf3_CC",
        "outputId": "6e8101bf-1b3e-4148-8c5d-55545360a13f"
      },
      "source": [
        "training_dataset"
      ],
      "execution_count": 105,
      "outputs": [
        {
          "output_type": "execute_result",
          "data": {
            "text/plain": [
              "Dataset MNIST\n",
              "    Number of datapoints: 60000\n",
              "    Root location: ./data\n",
              "    Split: Train\n",
              "    StandardTransform\n",
              "Transform: Compose(\n",
              "               Resize(size=[28, 28], interpolation=bilinear)\n",
              "               ToTensor()\n",
              "               Normalize(mean=(0.5,), std=(0.5,))\n",
              "           )"
            ]
          },
          "metadata": {
            "tags": []
          },
          "execution_count": 105
        }
      ]
    },
    {
      "cell_type": "code",
      "metadata": {
        "id": "aeA-yYNC7T4A"
      },
      "source": [
        ""
      ],
      "execution_count": 105,
      "outputs": []
    },
    {
      "cell_type": "code",
      "metadata": {
        "id": "3y2-xamc5-tq"
      },
      "source": [
        "training_loader = torch.utils.data.DataLoader(training_dataset, batch_size= 100, shuffle = \n",
        "                                            True)"
      ],
      "execution_count": 106,
      "outputs": []
    },
    {
      "cell_type": "code",
      "metadata": {
        "id": "sDZj-NOs3HNM"
      },
      "source": [
        "validation_loader = torch.utils.data.DataLoader(validation_dataset, batch_size= 100, shuffle = \n",
        "                                            False)"
      ],
      "execution_count": 107,
      "outputs": []
    },
    {
      "cell_type": "code",
      "metadata": {
        "id": "Fr_e52O-qMMC"
      },
      "source": [
        "def im_convert(tensor):   # to convert the tensor into numpy arrays\n",
        "  image = tensor.clone().detach().numpy()\n",
        "  image = image.transpose(1,2,0)\n",
        "  # print(image.shape)\n",
        "  image = image * np.array((0.5, 0.5, 0.5)) + np.array((0.5, 0.5, 0.5)) #d denormalize\n",
        "  image = image.clip(0,1)\n",
        "  return image"
      ],
      "execution_count": 108,
      "outputs": []
    },
    {
      "cell_type": "code",
      "metadata": {
        "colab": {
          "base_uri": "https://localhost:8080/",
          "height": 360
        },
        "id": "qO7NASUX45Z5",
        "outputId": "5a36587b-4cd3-4746-8930-35cbd2947322"
      },
      "source": [
        "dataiter = iter(training_loader)\n",
        "images, label = dataiter.next()\n",
        "fig = plt.figure(figsize=(25,6))\n",
        "\n",
        "for idx in range(20):\n",
        "  ax = fig.add_subplot(2, 10, idx+1)\n",
        "  plt.imshow(im_convert(images[idx]))\n",
        "  ax.set_title(label[idx].item())"
      ],
      "execution_count": 109,
      "outputs": [
        {
          "output_type": "display_data",
          "data": {
            "image/png": "[encoded data removed]",
            "text/plain": [
              "<Figure size 1800x432 with 20 Axes>"
            ]
          },
          "metadata": {
            "tags": [],
            "needs_background": "light"
          }
        }
      ]
    },
    {
      "cell_type": "code",
      "metadata": {
        "id": "3IX2z3oP8uCf"
      },
      "source": [
        "class Classifier(nn.Module):\n",
        "  def __init__(self, D_in, H1, H2, D_out):\n",
        "    super().__init__()\n",
        "    self.linear1 = nn.Linear(D_in, H1)\n",
        "    self.linear2 = nn.Linear(H1, H2)\n",
        "    self.linear3 = nn.Linear(H2, D_out)\n",
        "  def forward(self, x):\n",
        "    x = F.relu(self.linear1(x)) \n",
        "    x = F.relu(self.linear2(x))\n",
        "    x = self.linear3(x)\n",
        "    return x\n"
      ],
      "execution_count": 110,
      "outputs": []
    },
    {
      "cell_type": "code",
      "metadata": {
        "colab": {
          "base_uri": "https://localhost:8080/"
        },
        "id": "kQJx13wLFHVh",
        "outputId": "4db1f9a4-a3a4-409f-fea9-2331b10bf82e"
      },
      "source": [
        "model = Classifier(784, 125, 65, 10)\n",
        "model"
      ],
      "execution_count": 111,
      "outputs": [
        {
          "output_type": "execute_result",
          "data": {
            "text/plain": [
              "Classifier(\n",
              "  (linear1): Linear(in_features=784, out_features=125, bias=True)\n",
              "  (linear2): Linear(in_features=125, out_features=65, bias=True)\n",
              "  (linear3): Linear(in_features=65, out_features=10, bias=True)\n",
              ")"
            ]
          },
          "metadata": {
            "tags": []
          },
          "execution_count": 111
        }
      ]
    },
    {
      "cell_type": "code",
      "metadata": {
        "id": "DvcGJMCgLAIS"
      },
      "source": [
        "criterion = nn.CrossEntropyLoss()\n",
        "optimizer = torch.optim.Adam(model.parameters(), lr= 0.0001)"
      ],
      "execution_count": 112,
      "outputs": []
    },
    {
      "cell_type": "code",
      "metadata": {
        "colab": {
          "base_uri": "https://localhost:8080/"
        },
        "id": "rMt7KiTZMHDk",
        "outputId": "287140d7-def8-4f88-b3b1-8a7ccd6b047e"
      },
      "source": [
        "images.shape"
      ],
      "execution_count": 113,
      "outputs": [
        {
          "output_type": "execute_result",
          "data": {
            "text/plain": [
              "torch.Size([100, 1, 28, 28])"
            ]
          },
          "metadata": {
            "tags": []
          },
          "execution_count": 113
        }
      ]
    },
    {
      "cell_type": "code",
      "metadata": {
        "colab": {
          "base_uri": "https://localhost:8080/"
        },
        "id": "nS1EUkWfNMGz",
        "outputId": "8839b306-3fc4-46f0-bc86-3072035550a9"
      },
      "source": [
        "images.view(images.shape[0], -1).size()"
      ],
      "execution_count": 114,
      "outputs": [
        {
          "output_type": "execute_result",
          "data": {
            "text/plain": [
              "torch.Size([100, 784])"
            ]
          },
          "metadata": {
            "tags": []
          },
          "execution_count": 114
        }
      ]
    },
    {
      "cell_type": "code",
      "metadata": {
        "colab": {
          "base_uri": "https://localhost:8080/"
        },
        "id": "rDzJaEXuLl-v",
        "outputId": "39d097e8-1d36-4883-8ca8-c35e18e62599"
      },
      "source": [
        "epochs = 12\n",
        "running_loss_history = []\n",
        "running_corrects_history = []\n",
        "val_running_loss_history = []\n",
        "val_running_corrects_history = []\n",
        "for i in range(epochs):\n",
        "  running_loss = 0.0\n",
        "  running_corrects = 0.0\n",
        "  val_running_loss = 0.0\n",
        "  val_running_corrects = 0.0\n",
        "  for inputs, labels in training_loader:\n",
        "    # we will have to convert the image from size 1, 28,28 to a single row tensor 1, 784\n",
        "    inputs = inputs.view(inputs.shape[0], -1)\n",
        "    outputs = model(inputs)\n",
        "    loss = criterion(outputs, labels)\n",
        "\n",
        "    optimizer.zero_grad()\n",
        "    loss.backward()\n",
        "    optimizer.step()\n",
        "\n",
        "    _, preds = torch.max(outputs, 1)\n",
        "    running_loss += loss.item()\n",
        "    running_corrects += torch.sum(preds == labels.data)\n",
        "\n",
        "  else:\n",
        "    with torch.no_grad(): # as there is no need for derivates in validation as no grads are to be updated\n",
        "      for val_inputs, val_labels in validation_loader:\n",
        "        # we will have to convert the image from size 1, 28,28 to a single row tensor 1, 784\n",
        "        val_inputs = val_inputs.view(val_inputs.shape[0], -1)\n",
        "        val_outputs = model(val_inputs)\n",
        "        val_loss = criterion(val_outputs, val_labels)\n",
        "        _, val_preds = torch.max(val_outputs, 1)\n",
        "        val_running_loss += val_loss.item()\n",
        "        val_running_corrects += torch.sum(val_preds == val_labels.data)\n",
        "\n",
        "\n",
        "    epoch_loss = running_loss/len(training_loader)\n",
        "    epoch_acc = running_corrects.float()/len(training_loader)\n",
        "    running_loss_history.append(epoch_loss)\n",
        "    running_corrects_history.append(epoch_acc)\n",
        "\n",
        "    val_epoch_loss = val_running_loss/len(validation_loader)\n",
        "    val_epoch_acc = val_running_corrects.float()/len(validation_loader)\n",
        "    val_running_loss_history.append(val_epoch_loss)\n",
        "    val_running_corrects_history.append(val_epoch_acc)\n",
        "\n",
        "    print('Epoch:', i+1)\n",
        "    print('Training Loss: {:.4f}, Training Accuracy{:.4f}'.format(epoch_loss, epoch_acc.item()))\n",
        "    print('Validation  Loss: {:.4f}, Validation Accuracy{:.4f}'.format(val_epoch_loss, val_epoch_acc.item()))\n"
      ],
      "execution_count": 115,
      "outputs": [
        {
          "output_type": "stream",
          "text": [
            "Epoch: 1\n",
            "Training Loss: 0.9189, Training Accuracy79.3950\n",
            "Validation  Loss: 0.4119, Validation Accuracy88.9800\n",
            "Epoch: 2\n",
            "Training Loss: 0.3763, Training Accuracy89.3933\n",
            "Validation  Loss: 0.3254, Validation Accuracy90.3900\n",
            "Epoch: 3\n",
            "Training Loss: 0.3228, Training Accuracy90.5883\n",
            "Validation  Loss: 0.2983, Validation Accuracy91.2900\n",
            "Epoch: 4\n",
            "Training Loss: 0.2923, Training Accuracy91.5117\n",
            "Validation  Loss: 0.2669, Validation Accuracy92.5400\n",
            "Epoch: 5\n",
            "Training Loss: 0.2652, Training Accuracy92.3400\n",
            "Validation  Loss: 0.2459, Validation Accuracy92.6600\n",
            "Epoch: 6\n",
            "Training Loss: 0.2422, Training Accuracy93.0583\n",
            "Validation  Loss: 0.2257, Validation Accuracy93.5500\n",
            "Epoch: 7\n",
            "Training Loss: 0.2222, Training Accuracy93.6967\n",
            "Validation  Loss: 0.2096, Validation Accuracy93.8500\n",
            "Epoch: 8\n",
            "Training Loss: 0.2059, Training Accuracy94.1483\n",
            "Validation  Loss: 0.1966, Validation Accuracy94.3900\n",
            "Epoch: 9\n",
            "Training Loss: 0.1908, Training Accuracy94.4500\n",
            "Validation  Loss: 0.1859, Validation Accuracy94.6000\n",
            "Epoch: 10\n",
            "Training Loss: 0.1785, Training Accuracy94.8683\n",
            "Validation  Loss: 0.1724, Validation Accuracy94.8600\n",
            "Epoch: 11\n",
            "Training Loss: 0.1676, Training Accuracy95.1583\n",
            "Validation  Loss: 0.1613, Validation Accuracy95.1700\n",
            "Epoch: 12\n",
            "Training Loss: 0.1573, Training Accuracy95.4033\n",
            "Validation  Loss: 0.1546, Validation Accuracy95.4700\n"
          ],
          "name": "stdout"
        }
      ]
    },
    {
      "cell_type": "code",
      "metadata": {
        "colab": {
          "base_uri": "https://localhost:8080/",
          "height": 282
        },
        "id": "WAlONzg00gH5",
        "outputId": "6ad6fda7-140c-4098-bdf9-01914eb2dd5b"
      },
      "source": [
        "plt.plot(running_loss_history, label='training loss')\n",
        "plt.plot(val_running_loss_history, label='validation loss')\n",
        "plt.legend()"
      ],
      "execution_count": 116,
      "outputs": [
        {
          "output_type": "execute_result",
          "data": {
            "text/plain": [
              "<matplotlib.legend.Legend at 0x7f3d24deec50>"
            ]
          },
          "metadata": {
            "tags": []
          },
          "execution_count": 116
        },
        {
          "output_type": "display_data",
          "data": {
            "image/png": "[encoded data removed]",
            "text/plain": [
              "<Figure size 432x288 with 1 Axes>"
            ]
          },
          "metadata": {
            "tags": [],
            "needs_background": "light"
          }
        }
      ]
    },
    {
      "cell_type": "code",
      "metadata": {
        "colab": {
          "base_uri": "https://localhost:8080/",
          "height": 283
        },
        "id": "4Ws1nuFQ9u1D",
        "outputId": "aa707c08-2b86-4f92-d5fd-9ec12dc9e444"
      },
      "source": [
        "plt.plot(running_corrects_history, label='training accuracy')\n",
        "plt.plot(val_running_corrects_history, label='validation accuracy')\n",
        "plt.legend()"
      ],
      "execution_count": 117,
      "outputs": [
        {
          "output_type": "execute_result",
          "data": {
            "text/plain": [
              "<matplotlib.legend.Legend at 0x7f3d24d53610>"
            ]
          },
          "metadata": {
            "tags": []
          },
          "execution_count": 117
        },
        {
          "output_type": "display_data",
          "data": {
            "image/png": "[encoded data removed]",
            "text/plain": [
              "<Figure size 432x288 with 1 Axes>"
            ]
          },
          "metadata": {
            "tags": [],
            "needs_background": "light"
          }
        }
      ]
    },
    {
      "cell_type": "markdown",
      "metadata": {
        "id": "HNP5dp_F_bYP"
      },
      "source": [
        "## Testing our Model "
      ]
    },
    {
      "cell_type": "code",
      "metadata": {
        "colab": {
          "base_uri": "https://localhost:8080/",
          "height": 291
        },
        "id": "SbECJD28q4nt",
        "outputId": "464cf951-fd6b-44a3-c157-5c3f3810f6a8"
      },
      "source": [
        "!pip3 install pillow==4.0"
      ],
      "execution_count": 118,
      "outputs": [
        {
          "output_type": "stream",
          "text": [
            "Processing /root/.cache/pip/wheels/4f/0a/2a/7e3391063af230fac4b5fdb4cc93adcb1d99af325b623cea03/Pillow-4.0.0-cp37-cp37m-linux_x86_64.whl\n",
            "Requirement already satisfied: olefile in /usr/local/lib/python3.7/dist-packages (from pillow==4.0) (0.46)\n",
            "\u001b[31mERROR: torchvision 0.9.1+cu101 has requirement pillow>=4.1.1, but you'll have pillow 4.0.0 which is incompatible.\u001b[0m\n",
            "\u001b[31mERROR: scikit-image 0.16.2 has requirement pillow>=4.3.0, but you'll have pillow 4.0.0 which is incompatible.\u001b[0m\n",
            "\u001b[31mERROR: bokeh 2.3.2 has requirement pillow>=7.1.0, but you'll have pillow 4.0.0 which is incompatible.\u001b[0m\n",
            "\u001b[31mERROR: albumentations 0.1.12 has requirement imgaug<0.2.7,>=0.2.5, but you'll have imgaug 0.2.9 which is incompatible.\u001b[0m\n",
            "Installing collected packages: pillow\n",
            "  Found existing installation: Pillow 8.2.0\n",
            "    Uninstalling Pillow-8.2.0:\n",
            "      Successfully uninstalled Pillow-8.2.0\n",
            "Successfully installed pillow-4.0.0\n"
          ],
          "name": "stdout"
        },
        {
          "output_type": "display_data",
          "data": {
            "application/vnd.colab-display-data+json": {
              "pip_warning": {
                "packages": [
                  "PIL"
                ]
              }
            }
          },
          "metadata": {
            "tags": []
          }
        }
      ]
    },
    {
      "cell_type": "code",
      "metadata": {
        "id": "0axZVgsZ19jI"
      },
      "source": [
        "import requests\n",
        "from PIL import Image\n",
        "import PIL.ImageOps"
      ],
      "execution_count": 119,
      "outputs": []
    },
    {
      "cell_type": "code",
      "metadata": {
        "colab": {
          "base_uri": "https://localhost:8080/"
        },
        "id": "uqHeZgGboH_1",
        "outputId": "89c6c1a5-b385-45d3-f291-5182daa1e89e"
      },
      "source": [
        "url = 'https://images.homedepot-static.com/productImages/007164ea-d47e-4f66-8d8c-fd9f621984a2/svn/architectural-mailboxes-house-letters-numbers-3585b-5-64_1000.jpg' \n",
        "response = requests.get(url, stream = True)\n",
        "print(response)"
      ],
      "execution_count": 120,
      "outputs": [
        {
          "output_type": "stream",
          "text": [
            "<Response [200]>\n"
          ],
          "name": "stdout"
        }
      ]
    },
    {
      "cell_type": "code",
      "metadata": {
        "colab": {
          "base_uri": "https://localhost:8080/",
          "height": 286
        },
        "id": "7Q7jVnjbo8Vi",
        "outputId": "5f738639-95a4-4d7b-be8b-dc9827e7ba70"
      },
      "source": [
        "img = Image.open(response.raw)\n",
        "plt.imshow(img)"
      ],
      "execution_count": 121,
      "outputs": [
        {
          "output_type": "execute_result",
          "data": {
            "text/plain": [
              "<matplotlib.image.AxesImage at 0x7f3d1d6b1410>"
            ]
          },
          "metadata": {
            "tags": []
          },
          "execution_count": 121
        },
        {
          "output_type": "display_data",
          "data": {
            "image/png": "[encoded data removed]",
            "text/plain": [
              "<Figure size 432x288 with 1 Axes>"
            ]
          },
          "metadata": {
            "tags": [],
            "needs_background": "light"
          }
        }
      ]
    },
    {
      "cell_type": "code",
      "metadata": {
        "colab": {
          "base_uri": "https://localhost:8080/",
          "height": 282
        },
        "id": "hkTY4FVaqe9b",
        "outputId": "b99c32c8-6c2c-4ebd-8ee2-e0074e95689c"
      },
      "source": [
        "img = PIL.ImageOps.invert(img)\n",
        "img = img.convert('1') \n",
        "img = transform(img)\n",
        "plt.imshow(im_convert(img))"
      ],
      "execution_count": 122,
      "outputs": [
        {
          "output_type": "execute_result",
          "data": {
            "text/plain": [
              "<matplotlib.image.AxesImage at 0x7f3d1d638710>"
            ]
          },
          "metadata": {
            "tags": []
          },
          "execution_count": 122
        },
        {
          "output_type": "display_data",
          "data": {
            "image/png": "[encoded data removed]",
            "text/plain": [
              "<Figure size 432x288 with 1 Axes>"
            ]
          },
          "metadata": {
            "tags": [],
            "needs_background": "light"
          }
        }
      ]
    },
    {
      "cell_type": "code",
      "metadata": {
        "colab": {
          "base_uri": "https://localhost:8080/"
        },
        "id": "D7vHEmZTrdPv",
        "outputId": "779b5527-30ae-408d-e17c-ebf26ef8aa97"
      },
      "source": [
        "img = img.view(img.shape[0], -1)\n",
        "outputs = model(img)\n",
        "_, pred = torch.max(outputs, 1)\n",
        "print(pred.item())"
      ],
      "execution_count": 124,
      "outputs": [
        {
          "output_type": "stream",
          "text": [
            "5\n"
          ],
          "name": "stdout"
        }
      ]
    },
    {
      "cell_type": "code",
      "metadata": {
        "colab": {
          "base_uri": "https://localhost:8080/",
          "height": 360
        },
        "id": "-kNtjFyxv6t1",
        "outputId": "2931117f-2d97-4577-fe9d-fc9258fc99be"
      },
      "source": [
        "dataiter = iter(validation_loader)\n",
        "images, labels = dataiter.next()\n",
        "images_ = images.view(images.shape[0], -1)\n",
        "outputs = model(images_)\n",
        "_, preds = torch.max(outputs, 1)\n",
        "fig = plt.figure(figsize=(25,6))\n",
        "\n",
        "for idx in range(20):\n",
        "  ax = fig.add_subplot(2, 10, idx+1)\n",
        "  plt.imshow(im_convert(images[idx]))\n",
        "  ax.set_title(\"{} ({})\".format(str(preds[idx].item()), str(labels[idx].item())),\n",
        "               color=(\"green\" if preds[idx]==labels[idx] else \"red\"))"
      ],
      "execution_count": 129,
      "outputs": [
        {
          "output_type": "display_data",
          "data": {
            "image/png": "[encoded data removed]",
            "text/plain": [
              "<Figure size 1800x432 with 20 Axes>"
            ]
          },
          "metadata": {
            "tags": [],
            "needs_background": "light"
          }
        }
      ]
    },
    {
      "cell_type": "code",
      "metadata": {
        "id": "HlwDwjPP4r1n"
      },
      "source": [
        ""
      ],
      "execution_count": null,
      "outputs": []
    }
  ]
}