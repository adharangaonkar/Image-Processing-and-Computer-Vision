{
 "cells": [
  {
   "cell_type": "code",
   "execution_count": 18,
   "id": "2e8bb0fd",
   "metadata": {},
   "outputs": [],
   "source": [
    "# Imports\n",
    "import pandas as pd\n",
    "import torch\n",
    "import os\n",
    "import torch.nn as nn  # All neural network modules, nn.Linear, nn.Conv2d, BatchNorm, Loss functions\n",
    "import torch.optim as optim  # For all Optimization algorithms, SGD, Adam, etc.\n",
    "import torch.nn.functional as F  # All functions that don't have any parameters\n",
    "from torchvision.utils import save_image\n",
    "from torch.utils.data import (\n",
    "    DataLoader,\n",
    ")  # Gives easier dataset managment and creates mini batches\n",
    "from torch.utils.data import (\n",
    "    Dataset,\n",
    "    DataLoader,\n",
    ")  # Gives easier dataset managment and creates mini batchesimport torchvision.transforms as transforms  # Transformations we can perform on our dataset"
   ]
  },
  {
   "cell_type": "markdown",
   "id": "71f54604",
   "metadata": {},
   "source": [
    "### Custom Dataset"
   ]
  },
  {
   "cell_type": "code",
   "execution_count": 13,
   "id": "ab07894c",
   "metadata": {},
   "outputs": [],
   "source": [
    "class CatsAndDogsDataset(Dataset):\n",
    "    def __init__(self, csv_file, root_dir, transform=None): # csv_file : file with image names and labels\n",
    "        self.annotations = pd.read_csv(csv_file)\n",
    "        self.root_dir = root_dir\n",
    "        self.transform = transform\n",
    "        \n",
    "    def __len__(self):\n",
    "        return len(self.annotations)\n",
    "    \n",
    "    \n",
    "    # A function which returns a specific image and a tager label for that image\n",
    "    def __getitem__(self, index):\n",
    "        img_path = os.path.join(self.root_dir, self.annotations.iloc[index, 0]) # get root_dir/image name\n",
    "        image = io.imread(img_path)\n",
    "        y_label = torch.tensor(int(self.annotations.iloc[index, 1])) \n",
    "        # the 0th column is image name and the 1st is the label\n",
    "        \n",
    "        if self.transform:\n",
    "            image = self.transform(image)\n",
    "\n",
    "        return (image, y_label)"
   ]
  },
  {
   "cell_type": "code",
   "execution_count": 14,
   "id": "6140bc26",
   "metadata": {},
   "outputs": [],
   "source": [
    "# Load Data\n",
    "my_transforms = transforms.Compose(\n",
    "    [  # Compose makes it possible to have many transforms\n",
    "        transforms.ToPILImage(),\n",
    "        transforms.Resize((256, 256)),  # Resizes to (256, 256)\n",
    "        transforms.RandomCrop((224, 224)),  # Takes a random (224, 224) crop\n",
    "        transforms.ColorJitter(brightness=0.5),  # Change brightness of image\n",
    "        transforms.RandomRotation(\n",
    "            degrees=45\n",
    "        ),  # Perhaps a random rotation from -45 to 45 degrees\n",
    "        transforms.RandomHorizontalFlip(\n",
    "            p=0.5\n",
    "        ),  # Flips the image horizontally with probability 0.5\n",
    "        transforms.RandomVerticalFlip(\n",
    "            p=0.05\n",
    "        ),  # Flips image vertically with probability 0.05\n",
    "        transforms.RandomGrayscale(p=0.2),  # Converts to grayscale with probability 0.2\n",
    "        transforms.ToTensor(),  # Finally converts PIL image to tensor so we can train w. pytorch\n",
    "        transforms.Normalize(\n",
    "            mean=[0.5, 0.5, 0.5], std=[0.5, 0.5, 0.5]\n",
    "        ),  # Note: these values aren't optimal\n",
    "    ]\n",
    ")"
   ]
  },
  {
   "cell_type": "code",
   "execution_count": 15,
   "id": "6c1d92a4",
   "metadata": {},
   "outputs": [],
   "source": [
    "# Dataset Transformation\n",
    "dataset = CatsAndDogsDataset(\n",
    "    csv_file=\"cats_dogs.csv\",\n",
    "    root_dir=\"cats_dogs_resized\",\n",
    "    transform= my_transforms,\n",
    ")"
   ]
  },
  {
   "cell_type": "code",
   "execution_count": 20,
   "id": "1c9ecfc1",
   "metadata": {},
   "outputs": [],
   "source": [
    "from skimage import io"
   ]
  },
  {
   "cell_type": "code",
   "execution_count": 31,
   "id": "f4d66dba",
   "metadata": {},
   "outputs": [],
   "source": [
    "# Specifying path for augmented images\n",
    "path = \"augmented_images\\\\\""
   ]
  },
  {
   "cell_type": "code",
   "execution_count": 29,
   "id": "1f2cbe86",
   "metadata": {},
   "outputs": [],
   "source": [
    "# Saving all the augemented images locally\n",
    "img_num = 0\n",
    "for _ in range(10):\n",
    "    for img, label in dataset:\n",
    "        save_image(img, path+'img'+str(img_num)+'.png')\n",
    "        img_num +=1"
   ]
  },
  {
   "cell_type": "code",
   "execution_count": null,
   "id": "528e0f2a",
   "metadata": {},
   "outputs": [],
   "source": []
  }
 ],
 "metadata": {
  "kernelspec": {
   "display_name": "torch-gpu",
   "language": "python",
   "name": "torch-gpu"
  },
  "language_info": {
   "codemirror_mode": {
    "name": "ipython",
    "version": 3
   },
   "file_extension": ".py",
   "mimetype": "text/x-python",
   "name": "python",
   "nbconvert_exporter": "python",
   "pygments_lexer": "ipython3",
   "version": "3.8.5"
  }
 },
 "nbformat": 4,
 "nbformat_minor": 5
}
