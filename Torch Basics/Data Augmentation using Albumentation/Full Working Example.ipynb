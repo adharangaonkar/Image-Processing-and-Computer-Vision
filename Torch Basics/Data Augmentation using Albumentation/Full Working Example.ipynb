{
 "cells": [
  {
   "cell_type": "code",
   "execution_count": 1,
   "id": "8ba32ca5",
   "metadata": {},
   "outputs": [],
   "source": [
    "import torch\n",
    "import numpy as np\n",
    "import cv2\n",
    "from PIL import Image\n",
    "import torch.nn as nn\n",
    "import albumentations as A\n",
    "from albumentations.pytorch import ToTensorV2\n",
    "from torch.utils.data import Dataset\n",
    "import os"
   ]
  },
  {
   "cell_type": "code",
   "execution_count": 2,
   "id": "c8094d21",
   "metadata": {},
   "outputs": [],
   "source": [
    "class ImageFolder(Dataset):\n",
    "    def __init__(self, root_dir, transform=None):\n",
    "        super(ImageFolder, self).__init__()\n",
    "        self.data = []\n",
    "        self.root_dir = root_dir\n",
    "        self.transform = transform\n",
    "        self.class_names = os.listdir(root_dir)\n",
    "\n",
    "        for index, name in enumerate(self.class_names):\n",
    "            files = os.listdir(os.path.join(root_dir, name))\n",
    "            self.data += list(zip(files, [index]*len(files)))\n",
    "\n",
    "    def __len__(self):\n",
    "        return len(self.data)\n",
    "\n",
    "    def __getitem__(self, index):\n",
    "        img_file, label = self.data[index]\n",
    "        root_and_dir = os.path.join(self.root_dir, self.class_names[label])\n",
    "        image = np.array(Image.open(os.path.join(root_and_dir, img_file)))\n",
    "\n",
    "        if self.transform is not None:\n",
    "            augmentations = self.transform(image=image)\n",
    "            image = augmentations[\"image\"]\n",
    "\n",
    "        return image, label"
   ]
  },
  {
   "cell_type": "code",
   "execution_count": 3,
   "id": "150fc2c0",
   "metadata": {},
   "outputs": [],
   "source": [
    "transform = A.Compose(\n",
    "    [\n",
    "        A.Resize(width=1920, height=1080),\n",
    "        A.RandomCrop(width=1280, height=720),\n",
    "        A.Rotate(limit=40, p=0.9, border_mode=cv2.BORDER_CONSTANT),\n",
    "        A.HorizontalFlip(p=0.5),\n",
    "        A.VerticalFlip(p=0.1),\n",
    "        A.RGBShift(r_shift_limit=25, g_shift_limit=25, b_shift_limit=25, p=0.9),\n",
    "        A.OneOf([\n",
    "            A.Blur(blur_limit=3, p=0.5),\n",
    "            A.ColorJitter(p=0.5),\n",
    "        ], p=1.0),\n",
    "        A.Normalize(\n",
    "            mean=[0, 0, 0],\n",
    "            std=[1, 1, 1],\n",
    "            max_pixel_value=255,\n",
    "        ),\n",
    "        ToTensorV2(),\n",
    "    ]\n",
    ")"
   ]
  },
  {
   "cell_type": "code",
   "execution_count": 4,
   "id": "acd9a7b9",
   "metadata": {},
   "outputs": [],
   "source": [
    "dataset = ImageFolder(root_dir=\"cat_dogs\", transform=transform)"
   ]
  },
  {
   "cell_type": "code",
   "execution_count": 5,
   "id": "de7a7aea",
   "metadata": {},
   "outputs": [
    {
     "name": "stdout",
     "output_type": "stream",
     "text": [
      "torch.Size([3, 720, 1280])\n",
      "torch.Size([3, 720, 1280])\n",
      "torch.Size([3, 720, 1280])\n",
      "torch.Size([3, 720, 1280])\n",
      "torch.Size([3, 720, 1280])\n",
      "torch.Size([3, 720, 1280])\n",
      "torch.Size([3, 720, 1280])\n",
      "torch.Size([3, 720, 1280])\n",
      "torch.Size([3, 720, 1280])\n",
      "torch.Size([3, 720, 1280])\n",
      "torch.Size([3, 720, 1280])\n",
      "torch.Size([3, 720, 1280])\n",
      "torch.Size([3, 720, 1280])\n",
      "torch.Size([3, 720, 1280])\n",
      "torch.Size([3, 720, 1280])\n",
      "torch.Size([3, 720, 1280])\n",
      "torch.Size([3, 720, 1280])\n",
      "torch.Size([3, 720, 1280])\n",
      "torch.Size([3, 720, 1280])\n"
     ]
    }
   ],
   "source": [
    "for x,y in dataset:\n",
    "    print(x.shape)"
   ]
  },
  {
   "cell_type": "code",
   "execution_count": null,
   "id": "afb9ee69",
   "metadata": {},
   "outputs": [],
   "source": []
  }
 ],
 "metadata": {
  "kernelspec": {
   "display_name": "torch-gpu",
   "language": "python",
   "name": "torch-gpu"
  },
  "language_info": {
   "codemirror_mode": {
    "name": "ipython",
    "version": 3
   },
   "file_extension": ".py",
   "mimetype": "text/x-python",
   "name": "python",
   "nbconvert_exporter": "python",
   "pygments_lexer": "ipython3",
   "version": "3.8.5"
  }
 },
 "nbformat": 4,
 "nbformat_minor": 5
}
